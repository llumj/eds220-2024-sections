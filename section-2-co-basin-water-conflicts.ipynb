{
 "cells": [
  {
   "cell_type": "code",
   "execution_count": 1,
   "id": "d87da926-9b87-4f88-929e-863c83d2c440",
   "metadata": {},
   "outputs": [],
   "source": [
    "import pandas as pd\n"
   ]
  },
  {
   "cell_type": "code",
   "execution_count": 7,
   "id": "9b247039-6fe3-4a44-8406-c8b58cd49633",
   "metadata": {
    "tags": []
   },
   "outputs": [],
   "source": [
    "df = pd.read_csv(\"data/Colorado_River_Basin_Water_Conflict_Table.csv\")"
   ]
  },
  {
   "cell_type": "markdown",
   "id": "63fcc7c4-a7fa-4421-afd1-ae3c7272d271",
   "metadata": {
    "tags": []
   },
   "source": [
    "###### df.head\n",
    "\n",
    "df.tail\n",
    "\n",
    "df.columns"
   ]
  },
  {
   "cell_type": "code",
   "execution_count": 11,
   "id": "7610273b-7648-4a42-b22c-ed0baea347cb",
   "metadata": {
    "tags": []
   },
   "outputs": [
    {
     "data": {
      "text/plain": [
       "(268, 48)"
      ]
     },
     "execution_count": 11,
     "metadata": {},
     "output_type": "execute_result"
    }
   ],
   "source": [
    "df.shape"
   ]
  },
  {
   "cell_type": "code",
   "execution_count": 15,
   "id": "de153820-77ea-4f48-be38-11aee9ce430b",
   "metadata": {
    "tags": []
   },
   "outputs": [],
   "source": [
    "df.dtypes"
   ]
  },
  {
   "cell_type": "code",
   "execution_count": 21,
   "id": "36ebf426-c3e5-4407-a04b-f7db23ef154c",
   "metadata": {
    "tags": []
   },
   "outputs": [],
   "source": [
    "df.describe()"
   ]
  },
  {
   "cell_type": "code",
   "execution_count": 23,
   "id": "55072c42-95be-4099-b6ea-c657879e5e41",
   "metadata": {
    "tags": []
   },
   "outputs": [
    {
     "data": {
      "text/plain": [
       "array(['CO', 'UT', nan, 'AZ', 'OH; UT', 'AZ; CO; NM; UT', 'CA', 'AZ; UT',\n",
       "       'AZ; NV', 'CO; UT; WY; NM', 'AZ; CA', 'UT; AZ', 'CO; WY', 'NV; AZ',\n",
       "       'CO; AZ', 'AZ; CA; CO; NV; NM; UT; WY', 'AZ; CA; NV', 'NV', 'NM',\n",
       "       'UT; CO; WY', 'CA; NV; AZ', 'AZ; NM', 'WY; UT; CO', 'TX'],\n",
       "      dtype=object)"
      ]
     },
     "execution_count": 23,
     "metadata": {},
     "output_type": "execute_result"
    }
   ],
   "source": [
    "df['State'].unique()"
   ]
  },
  {
   "cell_type": "code",
   "execution_count": 35,
   "id": "0b504ca1-37a2-4ec1-a9e7-57b977fb1afb",
   "metadata": {
    "tags": []
   },
   "outputs": [
    {
     "data": {
      "text/plain": [
       "array(['CO', 'UT', 'AZ', 'OH', 'NM', 'CA', 'NV', 'WY', 'TX'], dtype=object)"
      ]
     },
     "execution_count": 35,
     "metadata": {},
     "output_type": "execute_result"
    }
   ],
   "source": [
    "cut_df = pd.Series(df['State'])\n",
    "\n",
    "# str accessor (doesn't do anything by itself)\n",
    "cut_df = cut_df.str.split(';', expand= True).stack()\n",
    "strip_df = cut_df.str.strip()\n",
    "strip_df.unique()"
   ]
  }
 ],
 "metadata": {
  "kernelspec": {
   "display_name": "Anaconda 3 (Base)",
   "language": "python",
   "name": "base"
  },
  "language_info": {
   "codemirror_mode": {
    "name": "ipython",
    "version": 3
   },
   "file_extension": ".py",
   "mimetype": "text/x-python",
   "name": "python",
   "nbconvert_exporter": "python",
   "pygments_lexer": "ipython3",
   "version": "3.9.13"
  }
 },
 "nbformat": 4,
 "nbformat_minor": 5
}
